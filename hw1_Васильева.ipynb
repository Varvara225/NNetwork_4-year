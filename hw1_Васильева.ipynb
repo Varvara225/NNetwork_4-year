{
  "cells": [
    {
      "cell_type": "markdown",
      "metadata": {
        "id": "view-in-github",
        "colab_type": "text"
      },
      "source": [
        "<a href=\"https://colab.research.google.com/github/Varvara225/NNetwork_4-year/blob/main/hw1_%D0%92%D0%B0%D1%81%D0%B8%D0%BB%D1%8C%D0%B5%D0%B2%D0%B0.ipynb\" target=\"_parent\"><img src=\"https://colab.research.google.com/assets/colab-badge.svg\" alt=\"Open In Colab\"/></a>"
      ]
    },
    {
      "cell_type": "markdown",
      "metadata": {
        "id": "IQwlunyE86kE"
      },
      "source": [
        "# 1. Практическое задание. Обучение полносвязной нейронной сети.\n",
        "\n",
        "**ФИО**: Васильева Варвара Вячеславовна\n",
        "\n",
        "### Большая просьба\n",
        "\n",
        "Называйте файл hw1_Фамилия.ipynb"
      ]
    },
    {
      "cell_type": "code",
      "execution_count": 2,
      "metadata": {
        "id": "UyCGfNgA86kF"
      },
      "outputs": [],
      "source": [
        "import numpy as np\n",
        "import torch\n",
        "import cv2\n",
        "\n",
        "from glob import glob\n",
        "from collections import OrderedDict\n",
        "from matplotlib import pyplot as plt\n",
        "\n",
        "from torch import nn\n",
        "from torch.autograd import Function\n",
        "from torch.autograd import gradcheck\n",
        "from torch.optim import Optimizer, Adam\n",
        "from torch.utils.data import Dataset, DataLoader\n",
        "from torchvision import datasets\n",
        "from torchvision import transforms"
      ]
    },
    {
      "cell_type": "code",
      "source": [
        "import os\n",
        "import tqdm"
      ],
      "metadata": {
        "id": "9HoHItioqUty"
      },
      "execution_count": 3,
      "outputs": []
    },
    {
      "cell_type": "markdown",
      "metadata": {
        "id": "uFaWrLT4GkfY"
      },
      "source": [
        "## 1. Загрузка данных (2 балла)"
      ]
    },
    {
      "cell_type": "markdown",
      "metadata": {
        "id": "R930jTYMG6nB"
      },
      "source": [
        "Если вам требуется работать с каким-нибубь набором данных (dataset), то прежде всего проверьте нет ли его среди встроенных наборов данных https://pytorch.org/vision/stable/datasets.html.\n",
        "\n",
        "В текущем домашнем задании мы будем работать с набором данных FashionMNIST. Это не совсем про тексты, но зато он численный и его можно вытянуть в вектор. Это легко и полезно, чтобы отработать разные приемы. Он присутствует в списке встроенных наборов данных, однако мы воспользуемся реализацией только для удобного и быстрого способа скачать наборы данных. Ниже предлагается реализовать собственный класс для считывания, обработки и упаковки данных."
      ]
    },
    {
      "cell_type": "code",
      "execution_count": 4,
      "metadata": {
        "id": "LauGpMvGF5qr",
        "colab": {
          "base_uri": "https://localhost:8080/"
        },
        "outputId": "774ebc3a-457e-4193-a353-13bdc3cbc537"
      },
      "outputs": [
        {
          "output_type": "stream",
          "name": "stdout",
          "text": [
            "Downloading http://fashion-mnist.s3-website.eu-central-1.amazonaws.com/train-images-idx3-ubyte.gz\n",
            "Downloading http://fashion-mnist.s3-website.eu-central-1.amazonaws.com/train-images-idx3-ubyte.gz to data/FashionMNIST/raw/train-images-idx3-ubyte.gz\n"
          ]
        },
        {
          "output_type": "stream",
          "name": "stderr",
          "text": [
            "100%|██████████| 26421880/26421880 [00:02<00:00, 13154321.56it/s]\n"
          ]
        },
        {
          "output_type": "stream",
          "name": "stdout",
          "text": [
            "Extracting data/FashionMNIST/raw/train-images-idx3-ubyte.gz to data/FashionMNIST/raw\n",
            "\n",
            "Downloading http://fashion-mnist.s3-website.eu-central-1.amazonaws.com/train-labels-idx1-ubyte.gz\n",
            "Downloading http://fashion-mnist.s3-website.eu-central-1.amazonaws.com/train-labels-idx1-ubyte.gz to data/FashionMNIST/raw/train-labels-idx1-ubyte.gz\n"
          ]
        },
        {
          "output_type": "stream",
          "name": "stderr",
          "text": [
            "100%|██████████| 29515/29515 [00:00<00:00, 209755.71it/s]\n"
          ]
        },
        {
          "output_type": "stream",
          "name": "stdout",
          "text": [
            "Extracting data/FashionMNIST/raw/train-labels-idx1-ubyte.gz to data/FashionMNIST/raw\n",
            "\n",
            "Downloading http://fashion-mnist.s3-website.eu-central-1.amazonaws.com/t10k-images-idx3-ubyte.gz\n",
            "Downloading http://fashion-mnist.s3-website.eu-central-1.amazonaws.com/t10k-images-idx3-ubyte.gz to data/FashionMNIST/raw/t10k-images-idx3-ubyte.gz\n"
          ]
        },
        {
          "output_type": "stream",
          "name": "stderr",
          "text": [
            "100%|██████████| 4422102/4422102 [00:01<00:00, 3907085.91it/s]\n"
          ]
        },
        {
          "output_type": "stream",
          "name": "stdout",
          "text": [
            "Extracting data/FashionMNIST/raw/t10k-images-idx3-ubyte.gz to data/FashionMNIST/raw\n",
            "\n",
            "Downloading http://fashion-mnist.s3-website.eu-central-1.amazonaws.com/t10k-labels-idx1-ubyte.gz\n",
            "Downloading http://fashion-mnist.s3-website.eu-central-1.amazonaws.com/t10k-labels-idx1-ubyte.gz to data/FashionMNIST/raw/t10k-labels-idx1-ubyte.gz\n"
          ]
        },
        {
          "output_type": "stream",
          "name": "stderr",
          "text": [
            "100%|██████████| 5148/5148 [00:00<00:00, 20801808.28it/s]"
          ]
        },
        {
          "output_type": "stream",
          "name": "stdout",
          "text": [
            "Extracting data/FashionMNIST/raw/t10k-labels-idx1-ubyte.gz to data/FashionMNIST/raw\n",
            "\n"
          ]
        },
        {
          "output_type": "stream",
          "name": "stderr",
          "text": [
            "\n"
          ]
        }
      ],
      "source": [
        "training_data = datasets.FashionMNIST(\n",
        "    root=\"data\",\n",
        "    train=True,\n",
        "    download=True\n",
        ")\n",
        "\n",
        "test_data = datasets.FashionMNIST(\n",
        "    root=\"data\",\n",
        "    train=False,\n",
        "    download=True\n",
        ")"
      ]
    },
    {
      "cell_type": "markdown",
      "metadata": {
        "id": "RIT32OCMaLLP"
      },
      "source": [
        "Воспользуемся функцией загрузки данных из репозитория наборов данных."
      ]
    },
    {
      "cell_type": "code",
      "execution_count": 5,
      "metadata": {
        "id": "Fm_cf_hEIapm",
        "colab": {
          "base_uri": "https://localhost:8080/"
        },
        "outputId": "4079fbef-6976-4059-9e85-7f4b19794a43"
      },
      "outputs": [
        {
          "output_type": "stream",
          "name": "stdout",
          "text": [
            "t10k-images-idx3-ubyte\t   t10k-labels-idx1-ubyte.gz   train-labels-idx1-ubyte\n",
            "t10k-images-idx3-ubyte.gz  train-images-idx3-ubyte     train-labels-idx1-ubyte.gz\n",
            "t10k-labels-idx1-ubyte\t   train-images-idx3-ubyte.gz\n"
          ]
        }
      ],
      "source": [
        "! ls data/FashionMNIST/raw"
      ]
    },
    {
      "cell_type": "code",
      "execution_count": 6,
      "metadata": {
        "id": "-xnY5xk1KBg2"
      },
      "outputs": [],
      "source": [
        "#https://github.com/zalandoresearch/fashion-mnist/blob/master/utils/mnist_reader.py\n",
        "\n",
        "def load_mnist(path: str, kind: str = 'train'): #-> Tuple[np.ndarray, np.ndarray]:\n",
        "    import os\n",
        "    import gzip\n",
        "    import numpy as np\n",
        "\n",
        "    \"\"\"Load MNIST data from `path`\"\"\"\n",
        "    labels_path = os.path.join(path,\n",
        "                               '%s-labels-idx1-ubyte.gz'\n",
        "                               % kind)\n",
        "    images_path = os.path.join(path,\n",
        "                               '%s-images-idx3-ubyte.gz'\n",
        "                               % kind)\n",
        "\n",
        "    with gzip.open(labels_path, 'rb') as lbpath:\n",
        "        labels = np.frombuffer(lbpath.read(), dtype=np.uint8,\n",
        "                               offset=8)\n",
        "\n",
        "    with gzip.open(images_path, 'rb') as imgpath:\n",
        "        images = np.frombuffer(imgpath.read(), dtype=np.uint8,\n",
        "                               offset=16).reshape(len(labels), 784)\n",
        "\n",
        "    return images, labels"
      ]
    },
    {
      "cell_type": "markdown",
      "metadata": {
        "id": "qHIlWRV0aZnA"
      },
      "source": [
        "Для удобства PyTorch предоставляет ряд базовых классов `Dataset, DataLoader`, от которых предлагается отнаследоваться при разработке пользовательских классов. Базовый класс `Dataset` используется для загрузки и обработки данных, класс `DataLoader` используется для управления процессом загрузки данных, позволяет в многопоточном режиме загружать данные и упаковывать их.\n",
        "Эти вспомогательные классы находятся в модуле `torch.utils.data`.\n",
        "\n",
        "При наследовании от класса `torch.utils.data.Dataset` требуется переопределить метод `__len__`, который возвращает количество примеров в наборе данных, а также метод `__getitem__`, который позволяет получить доступ к примеру из набора данных по индексу."
      ]
    },
    {
      "cell_type": "markdown",
      "metadata": {
        "id": "3jf2e5cPbJV2"
      },
      "source": [
        "Реализуем класс для FasionMnist.\n",
        "\n",
        "Элементами датасета должны являться пары '(np.array, int)', массив имеет размерность `(28, 28)`, тип элемента `np.float32`."
      ]
    },
    {
      "cell_type": "code",
      "source": [
        "\n",
        "class my_FashionMnist(Dataset):\n",
        "    def __init__(self, path, train=True, image_transform=None,\n",
        "                 label_transform=None):\n",
        "\n",
        "        ### YOUR CODE HERE\n",
        "        ### LOAD IMAGES AND LABELS WITH FUNCTION\n",
        "        if train:\n",
        "          self.images, self.labels = load_mnist(path, 'train')\n",
        "        else:\n",
        "          self.images, self.labels = load_mnist(path, 't10k')\n",
        "\n",
        "\n",
        "        ### ALSO PROVIDE TRANSFORMS TO APPLY\n",
        "        self.image_transform = image_transform\n",
        "        self.label_transform = label_transform\n",
        "\n",
        "\n",
        "\n",
        "    def __len__(self,):\n",
        "\n",
        "        ### YOUR CODE\n",
        "        # RETURN LENGTH OF DATASET\n",
        "        return len(self.images)\n",
        "\n",
        "\n",
        "    def __getitem__(self, idx):\n",
        "\n",
        "\n",
        "        ### YOUR CODE HERE\n",
        "        ### APPLY TRANSFORMS AND RETURN ELEMENTS\n",
        "        if self.image_transform:\n",
        "          image = self.image_transform(np.reshape(self.images[idx], (28, 28)))\n",
        "        else:\n",
        "          image = np.reshape(self.images[idx], (28, 28)).astype(np.float32)\n",
        "\n",
        "        if self.label_transform:\n",
        "          label = self.label_transform(self.labels[idx])\n",
        "        else:\n",
        "          label = int(self.labels[idx])\n",
        "\n",
        "        return (image, label)"
      ],
      "metadata": {
        "id": "li3ofKNwR2Ma"
      },
      "execution_count": 7,
      "outputs": []
    },
    {
      "cell_type": "code",
      "source": [
        "test_dataset = my_FashionMnist(\"data/FashionMNIST/raw\", train=False)\n",
        "train_dataset = my_FashionMnist(\"data/FashionMNIST/raw\")"
      ],
      "metadata": {
        "id": "w4epE_8XSgPl"
      },
      "execution_count": 8,
      "outputs": []
    },
    {
      "cell_type": "markdown",
      "metadata": {
        "id": "JciETIfndiGR"
      },
      "source": [
        "Визуализируйте случайные элементы набора данных."
      ]
    },
    {
      "cell_type": "code",
      "execution_count": 9,
      "metadata": {
        "id": "wBky4UtmOS71",
        "colab": {
          "base_uri": "https://localhost:8080/",
          "height": 585
        },
        "outputId": "46a9ba3e-3b94-485b-ca57-451f7c214933"
      },
      "outputs": [
        {
          "output_type": "display_data",
          "data": {
            "text/plain": [
              "<Figure size 600x700 with 25 Axes>"
            ],
            "image/png": "[encoded data removed]"
          },
          "metadata": {}
        }
      ],
      "source": [
        "### YOUR CODE HERE\n",
        "\n",
        "plt.figure(figsize=(6, 7))\n",
        "for i in range(25):\n",
        "    plt.subplot(5, 5, i+1)\n",
        "    plt.imshow(train_dataset[i][0])\n",
        "    plt.title(train_dataset[i][1])\n",
        "    plt.axis('off')"
      ]
    },
    {
      "cell_type": "markdown",
      "metadata": {
        "id": "320RvzL7PZrI"
      },
      "source": [
        "В конструктор `Dataset` можно передать объект `torchvision.transforms`, который позволяет преобразовать исходные данные. Преобразование `torchvision.transforms.ToTensor` позволяет преобразоать данные из типа `PIL Image` и `numpy.float32` в тип `torch.float32`\n",
        "\n",
        "Реализуйте собственную поддержку преобразований в `FashionMnist`. Проверьте, что приведение типов работает корректно."
      ]
    },
    {
      "cell_type": "code",
      "source": [
        "class my_ToTensor:\n",
        "    \"\"\"Convert ndarrays in sample to Tensors.\"\"\"\n",
        "\n",
        "    def __call__(self, sample):\n",
        "        ### YOUR CODE HERE\n",
        "        return torch.tensor(sample, dtype=torch.double)\n",
        "\n",
        "# SHOULD BE CALLABLE ToTensor(x)"
      ],
      "metadata": {
        "id": "8LXXiaNnSBEw"
      },
      "execution_count": 11,
      "outputs": []
    },
    {
      "cell_type": "code",
      "source": [
        "transform = my_ToTensor()\n",
        "\n",
        "### YOUR CODE HERE\n",
        "# init dataset with your transform and check datatype\n",
        "test_dataset = my_FashionMnist(\"data/FashionMNIST/raw\", train=False, image_transform=transform)\n",
        "train_dataset = my_FashionMnist(\"data/FashionMNIST/raw\", image_transform=transform)\n",
        "\n",
        "test_dataset[0][0].dtype, test_dataset[0][0].size()"
      ],
      "metadata": {
        "colab": {
          "base_uri": "https://localhost:8080/"
        },
        "id": "LG9ikd_CSpYI",
        "outputId": "92d9fdef-95fb-42d7-d963-8a84709766e1"
      },
      "execution_count": 12,
      "outputs": [
        {
          "output_type": "execute_result",
          "data": {
            "text/plain": [
              "(torch.float64, torch.Size([28, 28]))"
            ]
          },
          "metadata": {},
          "execution_count": 12
        }
      ]
    },
    {
      "cell_type": "markdown",
      "metadata": {
        "id": "5Ltavx0QUMnm"
      },
      "source": [
        "Элементы набора данных могут быть объединены в пакеты (batch) явно и неявно. Если данные могут быть сконкатенированы или обЪединены каким-нибудь тривиальным способом, то можно не передавать никаких дополнительных парамертов в `torch.utils.data.Dataloader`."
      ]
    },
    {
      "cell_type": "code",
      "execution_count": 13,
      "metadata": {
        "id": "Cizxx6m0VAI7"
      },
      "outputs": [],
      "source": [
        "test_dataloader = DataLoader(test_dataset, batch_size=15, num_workers=2, shuffle=True)\n",
        "batch = next(iter(test_dataloader))"
      ]
    },
    {
      "cell_type": "code",
      "execution_count": 14,
      "metadata": {
        "id": "SIZiPrBgVwGA",
        "colab": {
          "base_uri": "https://localhost:8080/"
        },
        "outputId": "587706e3-dda4-4e16-80a5-837c71caa3e2"
      },
      "outputs": [
        {
          "output_type": "stream",
          "name": "stdout",
          "text": [
            "The length of the batch is 2\n",
            "The shape of the batch[0] is torch.Size([15, 28, 28])\n"
          ]
        }
      ],
      "source": [
        "print(f\"The length of the batch is {len(batch)}\")\n",
        "print(f\"The shape of the batch[0] is {batch[0].shape}\")"
      ]
    },
    {
      "cell_type": "markdown",
      "metadata": {
        "id": "BCggRyOQWVIx"
      },
      "source": [
        "Однако, если наша структура данных не позволяет нам использовать объединение по умолчанию, то можно написать собственную функцию, которая будет пакетировать данные.\n",
        "\n",
        "Реализуйте функцию, преобразующую последовательность элементов массива в пакет (batch)."
      ]
    },
    {
      "cell_type": "code",
      "source": [
        "### YOUR CODE HERE\n",
        "### WRITE A COLLATE FUNCTION and use it with dataloaders\n",
        "\n",
        "def M_my_collate_fn(batch):\n",
        "\n",
        "    inputs, targets = zip(*batch)\n",
        "\n",
        "\n",
        "    inputs = torch.stack(inputs).double()\n",
        "    targets = torch.tensor(targets).long()\n",
        "\n",
        "    return inputs, targets"
      ],
      "metadata": {
        "id": "X9cJ6KFuSS8V"
      },
      "execution_count": 15,
      "outputs": []
    },
    {
      "cell_type": "markdown",
      "metadata": {
        "id": "Wij6F-vpe7KS"
      },
      "source": [
        "Убедитесть, что все работает корректно."
      ]
    },
    {
      "cell_type": "code",
      "source": [
        "test_dataloader = DataLoader(test_dataset, batch_size=15,\n",
        "                             num_workers=2, shuffle=True,\n",
        "                             collate_fn=M_my_collate_fn)\n",
        "train_dataloader = DataLoader(train_dataset, batch_size=15,\n",
        "                             num_workers=2, shuffle=True,\n",
        "                             collate_fn=M_my_collate_fn)\n",
        "batch = next(iter(test_dataloader))"
      ],
      "metadata": {
        "id": "DDwdbk9qTOfM"
      },
      "execution_count": 16,
      "outputs": []
    },
    {
      "cell_type": "code",
      "source": [
        "print(f\"The length of the batch is {len(batch)}\")\n",
        "print(f\"The shape of the batch[0] is {batch[0].shape}\")\n",
        "print(f\"The shape of the batch[1] is {batch[1].shape}\")"
      ],
      "metadata": {
        "colab": {
          "base_uri": "https://localhost:8080/"
        },
        "id": "sIP6gtNnTWiW",
        "outputId": "826309c9-b933-4134-d6cc-1cdf7ba34662"
      },
      "execution_count": 17,
      "outputs": [
        {
          "output_type": "stream",
          "name": "stdout",
          "text": [
            "The length of the batch is 2\n",
            "The shape of the batch[0] is torch.Size([15, 28, 28])\n",
            "The shape of the batch[1] is torch.Size([15])\n"
          ]
        }
      ]
    },
    {
      "cell_type": "markdown",
      "metadata": {
        "id": "VHcumwuF86kL"
      },
      "source": [
        "## 2. Реализация модулей нейронной сети (3 балла)\n",
        "\n",
        "В этом разделе мы полностью реализуем модули для полносвязанной сети.\n",
        "\n",
        "Для начала нам понадобится реализовать прямой и обратный проход через слои.\n",
        "\n",
        "Наши слои будут соответствовать следующему интерфейсу (на примере \"тождественного\" слоя):"
      ]
    },
    {
      "cell_type": "markdown",
      "metadata": {
        "id": "zzhCW5HcfmKd"
      },
      "source": [
        "Сначала, мы реализуем функцию и её градиент."
      ]
    },
    {
      "cell_type": "code",
      "execution_count": 18,
      "metadata": {
        "id": "rcqeFXxsFGQO"
      },
      "outputs": [],
      "source": [
        "class IdentityFunction(Function):\n",
        "    \"\"\"\n",
        "    We can implement our own custom autograd Functions by subclassing\n",
        "    torch.autograd.Function and implementing the forward and backward passes\n",
        "    which operate on Tensors.\n",
        "    \"\"\"\n",
        "    @staticmethod\n",
        "    def forward(ctx, input):\n",
        "        \"\"\"\n",
        "        In the forward pass we receive a Tensor containing the input and return\n",
        "        a Tensor containing the output. ctx is a context object that can be used\n",
        "        to stash information for backward computation. You can cache arbitrary\n",
        "        objects for use in the backward pass using the ctx.save_for_backward method.\n",
        "        \"\"\"\n",
        "        return input\n",
        "\n",
        "    @staticmethod\n",
        "    def backward(ctx, grad_output):\n",
        "        \"\"\"\n",
        "        In the backward pass we receive a Tensor containing the gradient of the loss\n",
        "        with respect to the output, and we need to compute the gradient of the loss\n",
        "        with respect to the input.\n",
        "        \"\"\"\n",
        "        return grad_output"
      ]
    },
    {
      "cell_type": "markdown",
      "metadata": {
        "id": "jc6Rtczffxv4"
      },
      "source": [
        "Разработанную функцию обернем классом `IdentityLayer`, все слои в `PyTorch` должны быть наследниками базового класса `nn.Module()`\n"
      ]
    },
    {
      "cell_type": "code",
      "execution_count": 19,
      "metadata": {
        "id": "SiqeRVcM86kM"
      },
      "outputs": [],
      "source": [
        "class IdentityLayer(nn.Module):\n",
        "    def __init__(self):\n",
        "        # An identity layer does nothing\n",
        "        super().__init__()\n",
        "        self.identity = IdentityFunction.apply\n",
        "\n",
        "    def forward(self, inp):\n",
        "        # An identity layer just returns whatever it gets as input.\n",
        "        return self.identity(inp)"
      ]
    },
    {
      "cell_type": "markdown",
      "metadata": {
        "id": "N4IoM_pX86kQ"
      },
      "source": [
        "\n",
        "### 2.1 Функция активации ReLU\n",
        "Для начала реализуем функцию активации, слой нелинейности `ReLU(x) = max(x, 0)`. Параметров у слоя нет. Метод `forward` должен вернуть результат поэлементного применения `ReLU` к входному массиву, метод `backward` - градиент функции потерь по входу слоя. В нуле будем считать производную равной 0. Обратите внимание, что при обратном проходе могут понадобиться величины, посчитанные во время прямого прохода, поэтому их стоит сохранить в `ctx`."
      ]
    },
    {
      "cell_type": "code",
      "source": [
        "class my_ReLUFunction(Function):\n",
        "    @staticmethod\n",
        "    def forward(ctx, input):\n",
        "\n",
        "        ### YOUR CODE HERE\n",
        "        ### CALCULATE RELU FUNCTION WITH TORCH AND SAVE SOMETHING FOR BACKWARD VIA CTX\n",
        "        ctx.save_for_backward(input)\n",
        "        output = torch.relu(input)\n",
        "        return output\n",
        "\n",
        "\n",
        "    @staticmethod\n",
        "    def backward(ctx, grad_output):\n",
        "\n",
        "        ### YOUR CODE HERE\n",
        "        ### GET SOMETHING FROM FORWARD AND CALCULATE GRADIENT\n",
        "        # CHECK LECTIONS OR GOOGLE\n",
        "        input, = ctx.saved_tensors\n",
        "        out = torch.where(input > 0, torch.tensor(1.0), torch.tensor(0.0))\n",
        "\n",
        "        return grad_output * out\n"
      ],
      "metadata": {
        "id": "hy6LUsReDnTT"
      },
      "execution_count": 20,
      "outputs": []
    },
    {
      "cell_type": "code",
      "execution_count": 21,
      "metadata": {
        "id": "y09ZVCsT86kT"
      },
      "outputs": [],
      "source": [
        "class ReLU(nn.Module):\n",
        "    def __init__(self):\n",
        "        super().__init__()\n",
        "        self.relu = my_ReLUFunction.apply\n",
        "\n",
        "    def forward(self, input):\n",
        "        return self.relu(input)"
      ]
    },
    {
      "cell_type": "markdown",
      "metadata": {
        "id": "2RwKEUp_V3-L"
      },
      "source": [
        "Не забываем после реализации функции проверить градиент, испльзуя функцию `gradcheck`."
      ]
    },
    {
      "cell_type": "code",
      "execution_count": 22,
      "metadata": {
        "id": "K0RnDQZCXXZn"
      },
      "outputs": [],
      "source": [
        "torch.manual_seed(0)\n",
        "\n",
        "x = torch.rand((7,15), requires_grad = True, dtype=torch.double)\n",
        "relu = ReLU()\n",
        "\n",
        "assert gradcheck(relu, x)"
      ]
    },
    {
      "cell_type": "code",
      "execution_count": 23,
      "metadata": {
        "id": "vUmbmR4iXurd"
      },
      "outputs": [],
      "source": [
        "torch_relu = torch.relu\n",
        "our_relu = ReLU()\n",
        "\n",
        "assert torch.norm(torch_relu(x.float()) - our_relu(x)) < 1e-5"
      ]
    },
    {
      "cell_type": "markdown",
      "metadata": {
        "id": "ojTR4GFd86kY"
      },
      "source": [
        "### 2.2 Линейный слой (linear, fully-connected)\n",
        "Далее реализуем полносвязный слой без нелинейности. У слоя два набора параметра: матрица весов (weights) и вектор смещения (bias)."
      ]
    },
    {
      "cell_type": "code",
      "source": [
        "class my_LinearFunction(Function):\n",
        "    @staticmethod\n",
        "    def forward(ctx, inp, weight, bias):\n",
        "\n",
        "        ### YOUR CODE HERE\n",
        "        ### CALCULATE OUTPUT\n",
        "        ### AND SAVE SOMETHING FOR BACKWARD\n",
        "\n",
        "        ctx.save_for_backward(inp, weight)\n",
        "        output = inp @ weight.T + bias\n",
        "        return output\n",
        "\n",
        "    @staticmethod\n",
        "    def backward(ctx, grad_output):\n",
        "\n",
        "        # GET SOMETHING FROM BACKWARD\n",
        "        inp, weight = ctx.saved_tensors\n",
        "\n",
        "        # CHECK HOW BACKWARD PERFORMED\n",
        "        grad_bias = grad_output.sum(0)\n",
        "        grad_weight = grad_output.T @ inp\n",
        "        grad_input =  grad_output @ weight\n",
        "\n",
        "        return grad_input, grad_weight, grad_bias"
      ],
      "metadata": {
        "id": "O1F3-STjENa2"
      },
      "execution_count": 24,
      "outputs": []
    },
    {
      "cell_type": "code",
      "source": [
        "class my_Linear(nn.Module):\n",
        "    def __init__(self, input_units, output_units):\n",
        "        super().__init__()\n",
        "\n",
        "        ### YOUR CODE HERE\n",
        "        ### initialize weights and bias with small random numbers or xavier\n",
        "        ### do not forget to make them torch.nn.Parameter\n",
        "        self.weight = nn.Parameter(torch.empty(output_units, input_units, dtype=torch.double))\n",
        "        nn.init.xavier_normal_(self.weight)\n",
        "\n",
        "        self.bias = nn.Parameter(torch.randn(output_units, dtype=torch.double) * 0.01)\n",
        "        self.linear = my_LinearFunction.apply\n",
        "\n",
        "    def forward(self,inp):\n",
        "\n",
        "        return self.linear(inp, self.weight, self.bias)\n"
      ],
      "metadata": {
        "id": "eDf1UxxWEl1R"
      },
      "execution_count": 27,
      "outputs": []
    },
    {
      "cell_type": "markdown",
      "metadata": {
        "id": "gToXI43WYMDv"
      },
      "source": [
        "Проверим градиент, а также сравним с работой нашего модуля с имплементированным в `PyTorch`."
      ]
    },
    {
      "cell_type": "markdown",
      "metadata": {
        "id": "et7mKX5xZfMI"
      },
      "source": [
        "Проверка градиента:"
      ]
    },
    {
      "cell_type": "code",
      "execution_count": 28,
      "metadata": {
        "id": "PxLVozqLZb_H"
      },
      "outputs": [],
      "source": [
        "torch.manual_seed(0)\n",
        "\n",
        "x = torch.rand((6,12), requires_grad = True, dtype=torch.double)\n",
        "linear = my_Linear(12, 14)\n",
        "\n",
        "assert gradcheck(linear, x)"
      ]
    },
    {
      "cell_type": "markdown",
      "metadata": {
        "id": "pW8ppOciZndN"
      },
      "source": [
        "Сравнение с `PyTorch`."
      ]
    },
    {
      "cell_type": "code",
      "execution_count": 29,
      "metadata": {
        "id": "IIR9svs7Zmq0"
      },
      "outputs": [],
      "source": [
        "output_units = 32\n",
        "input_units = 15\n",
        "\n",
        "x = torch.rand((16,15), requires_grad = True, dtype=torch.double)\n",
        "\n",
        "\n",
        "weight = torch.rand(size=(output_units, input_units), dtype=torch.double)\n",
        "bias = torch.rand(size=(output_units,), dtype=torch.double)\n",
        "\n",
        "torch_linear = torch.nn.Linear(input_units, output_units, dtype=torch.double)\n",
        "our_linear = my_Linear(input_units, output_units)\n",
        "\n",
        "\n",
        "state_dict = OrderedDict([(\"weight\", weight), (\"bias\", bias)])\n",
        "torch_linear.load_state_dict(state_dict)\n",
        "our_linear.load_state_dict(state_dict)\n",
        "\n",
        "\n",
        "torch_forward = torch_linear.forward(x)\n",
        "our_forward = our_linear(x)\n",
        "assert torch.allclose(torch_forward, our_forward)"
      ]
    },
    {
      "cell_type": "markdown",
      "metadata": {
        "id": "kmzKDpyE86lg"
      },
      "source": [
        "## 3. Сборка и обучение нейронной сети (5 баллов)"
      ]
    },
    {
      "cell_type": "markdown",
      "metadata": {
        "id": "mPqlZfj_86lg"
      },
      "source": [
        "Реализуйте произвольную нейросеть, состоящую из ваших блоков. Она должна состоять из нескольких полносвязанных слоев."
      ]
    },
    {
      "cell_type": "code",
      "source": [
        "class Network(nn.Module):\n",
        "    def __init__(self, input_size=28*28, hidden_layers_size=32, num_layers=5,\n",
        "                 num_classes=10):\n",
        "        super().__init__()\n",
        "\n",
        "\n",
        "        ### YOUR CODE HERE\n",
        "        ### STACK LAYERS WITH DEFINED PARAMETERS\n",
        "        ### USE nn.Dropout, your linear, your relu and whatever you like\n",
        "        ### LAST LAYER SHOULD BE nn.LogSoftmax\n",
        "        layers = []\n",
        "        prev_dim = input_size\n",
        "        layers.append(nn.Flatten(end_dim=-1))\n",
        "        for l in range(num_layers - 1):\n",
        "            layers.append(my_Linear(prev_dim, hidden_layers_size))\n",
        "            layers.append(ReLU())\n",
        "            prev_dim = hidden_layers_size\n",
        "\n",
        "        layers.append(my_Linear(prev_dim, num_classes))\n",
        "        layers.append(torch.nn.LogSoftmax(dim=1))\n",
        "\n",
        "        self.net = torch.nn.Sequential(*layers)\n",
        "\n",
        "    def forward(self, inp):\n",
        "\n",
        "        ### YOUR CODE HERE\n",
        "        ### APPLY YOUR NET TO THE INPUT\n",
        "        return self.net(inp)\n"
      ],
      "metadata": {
        "id": "1DfsgRDzEyv_"
      },
      "execution_count": 30,
      "outputs": []
    },
    {
      "cell_type": "code",
      "source": [
        "my_model = Network()\n",
        "my_model"
      ],
      "metadata": {
        "colab": {
          "base_uri": "https://localhost:8080/"
        },
        "id": "uNoOAVO5quMM",
        "outputId": "045fe8d9-fb80-4218-8463-82b0bdfdd6cd"
      },
      "execution_count": 45,
      "outputs": [
        {
          "output_type": "execute_result",
          "data": {
            "text/plain": [
              "Network(\n",
              "  (net): Sequential(\n",
              "    (0): Flatten(start_dim=1, end_dim=-1)\n",
              "    (1): my_Linear()\n",
              "    (2): ReLU()\n",
              "    (3): my_Linear()\n",
              "    (4): ReLU()\n",
              "    (5): my_Linear()\n",
              "    (6): ReLU()\n",
              "    (7): my_Linear()\n",
              "    (8): ReLU()\n",
              "    (9): my_Linear()\n",
              "    (10): LogSoftmax(dim=1)\n",
              "  )\n",
              ")"
            ]
          },
          "metadata": {},
          "execution_count": 45
        }
      ]
    },
    {
      "cell_type": "markdown",
      "metadata": {
        "id": "Vj-eEvMFfbSo"
      },
      "source": [
        "Ниже вам предстоит написать цикл обучения. Сначала это бывает больно, но потом уже на автомате делается, в начале так всегда\n"
      ]
    },
    {
      "cell_type": "code",
      "execution_count": 50,
      "metadata": {
        "id": "vDhcoCB4OpXE"
      },
      "outputs": [],
      "source": [
        "class EmptyContext:\n",
        "    def __enter__(self):\n",
        "        pass\n",
        "\n",
        "    def __exit__(self, *args):\n",
        "        pass"
      ]
    },
    {
      "cell_type": "code",
      "execution_count": 32,
      "metadata": {
        "id": "8AsWblqIOquI"
      },
      "outputs": [],
      "source": [
        "# accuracy metric for our classififcation\n",
        "def accuracy(model_labels, labels):\n",
        "  return torch.mean((model_labels == labels).float())"
      ]
    },
    {
      "cell_type": "markdown",
      "metadata": {
        "id": "FtamPEJZgOY5"
      },
      "source": [
        "Теперь обучим нашу нейронную сеть."
      ]
    },
    {
      "cell_type": "code",
      "source": [
        "def train_epoch(model, dataloader, optimizer, loss_fn, device):\n",
        "    model = model.to(device)\n",
        "    model.train(True)\n",
        "\n",
        "    losses = []\n",
        "    for batch in dataloader:\n",
        "\n",
        "        xs, ys_true = batch\n",
        "        xs = xs.to(device)\n",
        "        ys_true = ys_true.to(device)\n",
        "\n",
        "        ys_pred = model(xs)\n",
        "        loss = loss_fn(ys_pred, ys_true)\n",
        "\n",
        "        loss.backward()\n",
        "        optimizer.step()\n",
        "        optimizer.zero_grad()\n",
        "        losses.append(loss.item())\n",
        "\n",
        "    return np.mean(losses)"
      ],
      "metadata": {
        "id": "wYNXo-z1VtKe"
      },
      "execution_count": 33,
      "outputs": []
    },
    {
      "cell_type": "code",
      "source": [
        "def val_epoch(model, dataloader, loss_fn, device):\n",
        "    model = model.to(device)\n",
        "    model.eval()\n",
        "\n",
        "    losses = []\n",
        "    preds = []\n",
        "    val_accuracy = []\n",
        "    for batch in dataloader:\n",
        "        xs, ys_true = batch\n",
        "        xs = xs.to(device)\n",
        "        ys_true = ys_true.to(device)\n",
        "        with torch.no_grad():\n",
        "            ys_pred = model(xs)\n",
        "\n",
        "        loss = loss_fn(ys_pred, ys_true)\n",
        "        losses.append(loss.item())\n",
        "\n",
        "        preds.append(ys_pred.numpy())\n",
        "\n",
        "        val_accuracy.append(accuracy(torch.argmax(ys_pred, dim=-1), ys_true))\n",
        "\n",
        "    preds = np.concatenate(preds, axis=0)\n",
        "    return np.mean(losses), preds, np.mean(val_accuracy)"
      ],
      "metadata": {
        "id": "r3GVkjzsVtUo"
      },
      "execution_count": 34,
      "outputs": []
    },
    {
      "cell_type": "markdown",
      "metadata": {
        "id": "WS41CQj0Y6Q8"
      },
      "source": [
        "Дальше:\n",
        "- Проведите эксперименты с числом слоев.\n",
        "- Постройте графики зависимости качества модели на тренировочной и тестовой выборках от числа слоев. Для получения статистически значимых результатов повторите эксперименты несколько раз.\n",
        "- Сделайте выводы."
      ]
    },
    {
      "cell_type": "code",
      "source": [
        "# SET NUMBER OF EPOCHS\n",
        "num_lay = [2, 5, 10, 15]\n",
        "device = torch.device(\"cpu\")\n",
        "loss_fn = nn.NLLLoss()\n",
        "num_epochs = 5"
      ],
      "metadata": {
        "id": "UGys9XerWDvw"
      },
      "execution_count": 41,
      "outputs": []
    },
    {
      "cell_type": "code",
      "source": [
        "final_acc = []\n",
        "\n",
        "for n in num_lay:\n",
        "\n",
        "  model = Network(num_layers=n)\n",
        "  optimizer = torch.optim.SGD(model.parameters(), lr=0.001)\n",
        "\n",
        "  losses = []\n",
        "  val_losses = []\n",
        "  val_preds = []\n",
        "  acc_nlayers = []\n",
        "\n",
        "  for epoch in tqdm.trange(num_epochs):\n",
        "      loss = train_epoch(model, train_dataloader, optimizer, loss_fn, device)\n",
        "      losses.append(loss)\n",
        "\n",
        "      val_loss, preds, acc = val_epoch(model, test_dataloader, loss_fn, device)\n",
        "      val_losses.append(val_loss)\n",
        "      val_preds.append(preds)\n",
        "      acc_nlayers.append(acc)\n",
        "      print(f\"Epoch - {epoch} : loss {np.mean(losses)}, accuracy {acc}\")\n",
        "\n",
        "  final_acc.append(np.mean(acc_nlayers))\n",
        "\n",
        "# TRAIN AND VALIDATE\n",
        "# LOG METRICS FOR TRAIN AND VAL LIKE BELOW. (YOU MAY USE YOUR OWN WAY)"
      ],
      "metadata": {
        "colab": {
          "base_uri": "https://localhost:8080/"
        },
        "id": "erSw3XWFkhnQ",
        "outputId": "16e023c0-9de0-4d32-9e2f-c215f0e1f206"
      },
      "execution_count": 42,
      "outputs": [
        {
          "output_type": "stream",
          "name": "stderr",
          "text": [
            " 20%|██        | 1/5 [00:13<00:52, 13.14s/it]"
          ]
        },
        {
          "output_type": "stream",
          "name": "stdout",
          "text": [
            "Epoch - 0 : loss 2.4498138846227158, accuracy 0.3370314836502075\n"
          ]
        },
        {
          "output_type": "stream",
          "name": "stderr",
          "text": [
            "\r 40%|████      | 2/5 [00:25<00:38, 12.89s/it]"
          ]
        },
        {
          "output_type": "stream",
          "name": "stdout",
          "text": [
            "Epoch - 1 : loss 2.083788471449206, accuracy 0.37381312251091003\n"
          ]
        },
        {
          "output_type": "stream",
          "name": "stderr",
          "text": [
            "\r 60%|██████    | 3/5 [00:38<00:25, 12.87s/it]"
          ]
        },
        {
          "output_type": "stream",
          "name": "stdout",
          "text": [
            "Epoch - 2 : loss 1.924686109616885, accuracy 0.3616691827774048\n"
          ]
        },
        {
          "output_type": "stream",
          "name": "stderr",
          "text": [
            "\r 80%|████████  | 4/5 [00:51<00:12, 12.94s/it]"
          ]
        },
        {
          "output_type": "stream",
          "name": "stdout",
          "text": [
            "Epoch - 3 : loss 1.834463178600319, accuracy 0.41984012722969055\n"
          ]
        },
        {
          "output_type": "stream",
          "name": "stderr",
          "text": [
            "100%|██████████| 5/5 [01:04<00:00, 12.89s/it]\n"
          ]
        },
        {
          "output_type": "stream",
          "name": "stdout",
          "text": [
            "Epoch - 4 : loss 1.7737202702832096, accuracy 0.3614692687988281\n"
          ]
        },
        {
          "output_type": "stream",
          "name": "stderr",
          "text": [
            " 20%|██        | 1/5 [00:16<01:05, 16.49s/it]"
          ]
        },
        {
          "output_type": "stream",
          "name": "stdout",
          "text": [
            "Epoch - 0 : loss 1.0709350383655842, accuracy 0.6863068342208862\n"
          ]
        },
        {
          "output_type": "stream",
          "name": "stderr",
          "text": [
            "\r 40%|████      | 2/5 [00:32<00:48, 16.05s/it]"
          ]
        },
        {
          "output_type": "stream",
          "name": "stdout",
          "text": [
            "Epoch - 1 : loss 0.872350517426153, accuracy 0.7466766238212585\n"
          ]
        },
        {
          "output_type": "stream",
          "name": "stderr",
          "text": [
            "\r 60%|██████    | 3/5 [00:47<00:31, 15.85s/it]"
          ]
        },
        {
          "output_type": "stream",
          "name": "stdout",
          "text": [
            "Epoch - 2 : loss 0.7798519315786275, accuracy 0.7547226548194885\n"
          ]
        },
        {
          "output_type": "stream",
          "name": "stderr",
          "text": [
            "\r 80%|████████  | 4/5 [01:03<00:15, 15.63s/it]"
          ]
        },
        {
          "output_type": "stream",
          "name": "stdout",
          "text": [
            "Epoch - 3 : loss 0.7212965980503834, accuracy 0.8102948665618896\n"
          ]
        },
        {
          "output_type": "stream",
          "name": "stderr",
          "text": [
            "100%|██████████| 5/5 [01:18<00:00, 15.68s/it]\n"
          ]
        },
        {
          "output_type": "stream",
          "name": "stdout",
          "text": [
            "Epoch - 4 : loss 0.677061491792292, accuracy 0.7991004586219788\n"
          ]
        },
        {
          "output_type": "stream",
          "name": "stderr",
          "text": [
            " 20%|██        | 1/5 [00:19<01:18, 19.69s/it]"
          ]
        },
        {
          "output_type": "stream",
          "name": "stdout",
          "text": [
            "Epoch - 0 : loss 0.8236636848650257, accuracy 0.7812594175338745\n"
          ]
        },
        {
          "output_type": "stream",
          "name": "stderr",
          "text": [
            "\r 40%|████      | 2/5 [00:39<01:00, 20.05s/it]"
          ]
        },
        {
          "output_type": "stream",
          "name": "stdout",
          "text": [
            "Epoch - 1 : loss 0.6936660328755421, accuracy 0.8052974939346313\n"
          ]
        },
        {
          "output_type": "stream",
          "name": "stderr",
          "text": [
            "\r 60%|██████    | 3/5 [00:59<00:39, 19.76s/it]"
          ]
        },
        {
          "output_type": "stream",
          "name": "stdout",
          "text": [
            "Epoch - 2 : loss 0.6305675328526349, accuracy 0.8149924874305725\n"
          ]
        },
        {
          "output_type": "stream",
          "name": "stderr",
          "text": [
            "\r 80%|████████  | 4/5 [01:19<00:20, 20.04s/it]"
          ]
        },
        {
          "output_type": "stream",
          "name": "stdout",
          "text": [
            "Epoch - 3 : loss 0.5898572853830126, accuracy 0.8262869119644165\n"
          ]
        },
        {
          "output_type": "stream",
          "name": "stderr",
          "text": [
            "100%|██████████| 5/5 [01:39<00:00, 19.92s/it]\n"
          ]
        },
        {
          "output_type": "stream",
          "name": "stdout",
          "text": [
            "Epoch - 4 : loss 0.5613576567990443, accuracy 0.8251874446868896\n"
          ]
        },
        {
          "output_type": "stream",
          "name": "stderr",
          "text": [
            " 20%|██        | 1/5 [00:24<01:37, 24.40s/it]"
          ]
        },
        {
          "output_type": "stream",
          "name": "stdout",
          "text": [
            "Epoch - 0 : loss 0.942666026081941, accuracy 0.7263868451118469\n"
          ]
        },
        {
          "output_type": "stream",
          "name": "stderr",
          "text": [
            "\r 40%|████      | 2/5 [00:48<01:12, 24.09s/it]"
          ]
        },
        {
          "output_type": "stream",
          "name": "stdout",
          "text": [
            "Epoch - 1 : loss 0.7711511452919517, accuracy 0.778710663318634\n"
          ]
        },
        {
          "output_type": "stream",
          "name": "stderr",
          "text": [
            "\r 60%|██████    | 3/5 [01:11<00:47, 23.77s/it]"
          ]
        },
        {
          "output_type": "stream",
          "name": "stdout",
          "text": [
            "Epoch - 2 : loss 0.689508909263647, accuracy 0.7901549935340881\n"
          ]
        },
        {
          "output_type": "stream",
          "name": "stderr",
          "text": [
            "\r 80%|████████  | 4/5 [01:35<00:23, 23.93s/it]"
          ]
        },
        {
          "output_type": "stream",
          "name": "stdout",
          "text": [
            "Epoch - 3 : loss 0.6391853598339187, accuracy 0.8162419199943542\n"
          ]
        },
        {
          "output_type": "stream",
          "name": "stderr",
          "text": [
            "100%|██████████| 5/5 [01:59<00:00, 23.98s/it]"
          ]
        },
        {
          "output_type": "stream",
          "name": "stdout",
          "text": [
            "Epoch - 4 : loss 0.6032448133294499, accuracy 0.8300350308418274\n"
          ]
        },
        {
          "output_type": "stream",
          "name": "stderr",
          "text": [
            "\n"
          ]
        }
      ]
    },
    {
      "cell_type": "code",
      "source": [
        "plt.figure(figsize=(16, 5))\n",
        "\n",
        "# plt.subplot(1, 2, 1)\n",
        "plt.plot(num_lay, final_acc)\n",
        "plt.grid(True)\n",
        "plt.xlabel(\"n_layers\")\n",
        "plt.ylabel(\"accuracy_test\")\n",
        "\n",
        "plt.show()"
      ],
      "metadata": {
        "colab": {
          "base_uri": "https://localhost:8080/",
          "height": 417
        },
        "id": "EfdJtTGnF_Z4",
        "outputId": "55fa1ce5-35b2-41ec-fcf3-042527dde277"
      },
      "execution_count": 44,
      "outputs": [
        {
          "output_type": "display_data",
          "data": {
            "text/plain": [
              "<Figure size 1600x500 with 1 Axes>"
            ],
            "image/png": "[encoded data removed]"
          },
          "metadata": {}
        }
      ]
    },
    {
      "cell_type": "markdown",
      "metadata": {
        "id": "d3vcONKQ86mu"
      },
      "source": [
        "## 4. Бонусная часть."
      ]
    },
    {
      "cell_type": "markdown",
      "metadata": {
        "id": "Kuhxy7aW86mu"
      },
      "source": [
        "### 4.1 Реализация метода оптимизации (1 балл).\n",
        "Реализуйте сами метод оптимизации  для рассмотренной выше архитектуры. Вы можете выбрать произвольный метод от градиентного спуска до современных вариантов. Продемонстрируйте правильную работу метода оптимизации, сравните его работы с Adam.\n",
        "\n",
        "**Дополнительные баллы** вы получите, если метод будет уникален среди сдавших задание."
      ]
    },
    {
      "cell_type": "code",
      "execution_count": null,
      "metadata": {
        "id": "GYMu0uF1p6o0"
      },
      "outputs": [],
      "source": [
        "class SotaOptimizer(Optimizer):\n",
        "    def __init__(self, params, lr=1e-3):\n",
        "        defaults = dict(lr=lr)\n",
        "        super(SotaOptimizer, self).__init__(params, defaults)\n",
        "\n",
        "    def __setstate__(self, state):\n",
        "        super(SotaOptimizer, self).__setstate__(state)\n",
        "\n",
        "    @torch.no_grad()\n",
        "    def step(self,):\n",
        "\n",
        "        for group in self.param_groups:\n",
        "            lr = group['lr']\n",
        "            for p in group['params']:\n",
        "                if p.grad is not None:\n",
        "                    p.data.add_(-lr*p.grad)"
      ]
    },
    {
      "cell_type": "markdown",
      "metadata": {
        "id": "d3aabYCykXL7"
      },
      "source": [
        "### 4.2 Реализация современной функции активации (1 балл).\n",
        "Реализуйте одну из современных функций активации. Например, `Hardswish` или `GELU`. Сравните сеть с вашей активацией и с `ReLU`.\n",
        "\n",
        "**Дополнительные баллы** вы получите, если функция будет уникальна среди сдавших задание."
      ]
    }
  ],
  "metadata": {
    "colab": {
      "provenance": [],
      "gpuType": "T4",
      "include_colab_link": true
    },
    "kernelspec": {
      "display_name": "Python 3",
      "name": "python3"
    },
    "language_info": {
      "codemirror_mode": {
        "name": "ipython",
        "version": 3
      },
      "file_extension": ".py",
      "mimetype": "text/x-python",
      "name": "python",
      "nbconvert_exporter": "python",
      "pygments_lexer": "ipython3",
      "version": "3.7.16"
    },
    "vscode": {
      "interpreter": {
        "hash": "92d26938485ea6bea67bf2e2bb4662b06e39d7cc20cef26f940ca706eab939d3"
      }
    },
    "accelerator": "GPU"
  },
  "nbformat": 4,
  "nbformat_minor": 0
}